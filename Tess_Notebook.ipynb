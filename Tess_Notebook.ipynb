{
  "nbformat": 4,
  "nbformat_minor": 0,
  "metadata": {
    "colab": {
      "provenance": [],
      "authorship_tag": "ABX9TyOjSzT1DiKUcWrzO1ti9CGH",
      "include_colab_link": true
    },
    "kernelspec": {
      "name": "python3",
      "display_name": "Python 3"
    },
    "language_info": {
      "name": "python"
    }
  },
  "cells": [
    {
      "cell_type": "markdown",
      "metadata": {
        "id": "view-in-github",
        "colab_type": "text"
      },
      "source": [
        "<a href=\"https://colab.research.google.com/github/zeyadahmedh/Exoplanets-Detection-Using-Machine-Learning/blob/main/Tess_Notebook.ipynb\" target=\"_parent\"><img src=\"https://colab.research.google.com/assets/colab-badge.svg\" alt=\"Open In Colab\"/></a>"
      ]
    },
    {
      "cell_type": "code",
      "metadata": {
        "colab": {
          "base_uri": "https://localhost:8080/"
        },
        "id": "c17c1e93",
        "outputId": "8e40db37-0cf2-4f31-9471-c16b4ba0c48a"
      },
      "source": [
        "!pip install python-docx"
      ],
      "execution_count": null,
      "outputs": [
        {
          "output_type": "stream",
          "name": "stdout",
          "text": [
            "Collecting python-docx\n",
            "  Downloading python_docx-1.2.0-py3-none-any.whl.metadata (2.0 kB)\n",
            "Requirement already satisfied: lxml>=3.1.0 in /usr/local/lib/python3.12/dist-packages (from python-docx) (5.4.0)\n",
            "Requirement already satisfied: typing_extensions>=4.9.0 in /usr/local/lib/python3.12/dist-packages (from python-docx) (4.15.0)\n",
            "Downloading python_docx-1.2.0-py3-none-any.whl (252 kB)\n",
            "\u001b[?25l   \u001b[90m━━━━━━━━━━━━━━━━━━━━━━━━━━━━━━━━━━━━━━━━\u001b[0m \u001b[32m0.0/253.0 kB\u001b[0m \u001b[31m?\u001b[0m eta \u001b[36m-:--:--\u001b[0m\r\u001b[2K   \u001b[90m━━━━━━━━━━━━━━━━━━━━━━━━━━━━━━━━━━━━━━━━\u001b[0m \u001b[32m253.0/253.0 kB\u001b[0m \u001b[31m7.7 MB/s\u001b[0m eta \u001b[36m0:00:00\u001b[0m\n",
            "\u001b[?25hInstalling collected packages: python-docx\n",
            "Successfully installed python-docx-1.2.0\n"
          ]
        }
      ]
    },
    {
      "cell_type": "code",
      "execution_count": null,
      "metadata": {
        "colab": {
          "base_uri": "https://localhost:8080/",
          "height": 36
        },
        "id": "FiRjlpuukNGg",
        "outputId": "4349fa44-0fdd-439e-a29e-5685737fd7a5"
      },
      "outputs": [
        {
          "output_type": "execute_result",
          "data": {
            "text/plain": [
              "'data/Abdelrahman_Bakr_Ghazy_AI_Engineer_CV.docx'"
            ],
            "application/vnd.google.colaboratory.intrinsic+json": {
              "type": "string"
            }
          },
          "metadata": {},
          "execution_count": 4
        }
      ],
      "source": [
        "from docx import Document\n",
        "import os\n",
        "\n",
        "# Create a new Word Document\n",
        "doc = Document()\n",
        "\n",
        "# Title\n",
        "doc.add_heading('Curriculum Vitae', level=0)\n",
        "\n",
        "# Personal Info\n",
        "doc.add_heading('Personal Information', level=1)\n",
        "doc.add_paragraph(\"**Name:** Abdelrahman Bakr Ghazy\\n\"\n",
        "                  \"**Location:** New Cairo, Cairo, Egypt\\n\"\n",
        "                  \"**Phone:** +20 1017915206\\n\"\n",
        "                  \"**Email:** abdoghazy079@gmail.com\\n\"\n",
        "                  \"**LinkedIn:** linkedin.com/in/abdelrahman-bakr-ghazy\\n\"\n",
        "                  \"**GitHub:** github.com/abdo-ghg\")\n",
        "\n",
        "# Career Objective\n",
        "doc.add_heading('Career Objective', level=1)\n",
        "doc.add_paragraph(\n",
        "    \"AI Engineer and Computer Science student at Ain Shams University with strong expertise in \"\n",
        "    \"Machine Learning, Data Science, and Software Development. Passionate about building AI-powered \"\n",
        "    \"solutions to solve real-world problems and applying advanced analytics for impactful decision-making. \"\n",
        "    \"Combining technical knowledge with leadership and entrepreneurial mindset, aiming to contribute to \"\n",
        "    \"AI research, product innovation, and business growth.\"\n",
        ")\n",
        "\n",
        "# Education\n",
        "doc.add_heading('Education', level=1)\n",
        "doc.add_paragraph(\n",
        "    \"B.Sc. Computer Science (AI Major) – Ain Shams University (2023 – Present)\\nGPA: 3.5\\n\"\n",
        "    \"School of Continuing Education (AUC) – English Language & Pre-Academic Program (2023 – Present)\\n\"\n",
        "    \"High School: Ezzat El-Nemer Elthanaweya (2023)\"\n",
        ")\n",
        "\n",
        "# Technical Skills\n",
        "doc.add_heading('Technical Skills', level=1)\n",
        "doc.add_paragraph(\n",
        "    \"- Programming: Python, C++, SQL, Java, C#, JavaScript, HTML, CSS\\n\"\n",
        "    \"- AI/ML & Data Science: Pandas, NumPy, Scikit-learn, PyTorch, TensorFlow, Data Visualization (Matplotlib, Seaborn)\\n\"\n",
        "    \"- Databases: Oracle DB, SQL Server\\n\"\n",
        "    \"- Frameworks & Tools: .NET, React.js, Git/GitHub, Google Colab, Jupyter Notebook\\n\"\n",
        "    \"- Concepts: Machine Learning, Deep Learning, Data Analysis, OOP, Data Structures, Cryptography\"\n",
        ")\n",
        "\n",
        "# Projects (AI & Data Science)\n",
        "doc.add_heading('Projects (AI & Data Science)', level=1)\n",
        "projects_ai = [\n",
        "    \"Lung Cancer Survival Prediction: Built ML models (Random Forest, XGBoost, SVM, Neural Networks) to predict patient survival.\",\n",
        "    \"Waze User Churn Prediction: Applied KNN, Decision Trees, Random Forest, and XGBoost to forecast churn behavior.\",\n",
        "    \"Diabetes Prediction Analysis: Compared multiple ML classifiers to predict diabetes (Random Forest, Naive Bayes, SVM).\",\n",
        "    \"Wholesale Customer Segmentation: Applied K-Means clustering to identify customer groups and business insights.\",\n",
        "    \"Titanic Survival Prediction (Logistic Regression, Decision Trees, Naive Bayes): Explored feature engineering and classification techniques.\",\n",
        "    \"Spam Email Detection: Built Naive Bayes model with TF-IDF for email spam classification.\",\n",
        "    \"Iris Classification (KNN): Trained and optimized KNN for flower species classification.\",\n",
        "    \"IBM Employee Attrition Prediction: Applied Decision Tree model to analyze HR attrition trends.\",\n",
        "    \"Life Expectancy Data Analysis: Cleaned and analyzed global health dataset.\",\n",
        "    \"King County House Data Analysis: Preprocessed housing dataset for predictive modeling.\",\n",
        "    \"AI Assistant Usage Analysis: Explored student usage patterns of AI assistants for tasks and satisfaction.\"\n",
        "]\n",
        "for proj in projects_ai:\n",
        "    doc.add_paragraph(proj, style='List Bullet')\n",
        "\n",
        "# Other Academic Projects\n",
        "doc.add_heading('Other Academic Projects', level=1)\n",
        "projects_other = [\n",
        "    \"Tanweer (Salam Hack 2025): AI-powered educational platform with generative AI & gamified learning.\",\n",
        "    \"Kits 4 Kids (USAID & ICEPark Winner): Educational kit platform to support kids in math & science.\",\n",
        "    \"RSA Cryptography System: Implemented RSA encryption/decryption system.\",\n",
        "    \"Coursera System (.NET): Built online course management system.\",\n",
        "    \"Billing System (Oracle DB): Designed a database for billing management.\",\n",
        "    \"Restaurant Website (HTML/CSS/JS): Developed responsive website.\"\n",
        "]\n",
        "for proj in projects_other:\n",
        "    doc.add_paragraph(proj, style='List Bullet')\n",
        "\n",
        "# Training & Certifications\n",
        "doc.add_heading('Training & Certifications', level=1)\n",
        "certifications = [\n",
        "    \"Machine Learning for Data Analysis (NTI, 90h) – Aug 2024\",\n",
        "    \"Freelancing Skills (NTI, 30h) – Aug 2024\",\n",
        "    \"AI & Machine Learning Summer Camp (Sprints x Microsoft) – Aug 2024 – Present\",\n",
        "    \"AI Training – APPLAI – Jul 2024\",\n",
        "    \"IoT Training – RoboTech – Aug 2024\",\n",
        "    \"Leadership Course – Aspire Academy – 2023\"\n",
        "]\n",
        "for cert in certifications:\n",
        "    doc.add_paragraph(cert, style='List Bullet')\n",
        "\n",
        "# Experience & Volunteering\n",
        "doc.add_heading('Experience & Volunteering', level=1)\n",
        "experience = [\n",
        "    \"WUF’12 Volunteer (UN-Habitat) – Events & Halls Organizing Team – Nov 2024\",\n",
        "    \"Volunteer (Raqmey & Youth Scope) – Youth Development Camps – 2024\",\n",
        "    \"Organizer – Campus football competitions & student events – 2023\"\n",
        "]\n",
        "for exp in experience:\n",
        "    doc.add_paragraph(exp, style='List Bullet')\n",
        "\n",
        "# Languages\n",
        "doc.add_heading('Languages', level=1)\n",
        "doc.add_paragraph(\"Arabic: Native\\nEnglish: Intermediate (Improving through AUC program)\")\n",
        "\n",
        "# Save the document\n",
        "file_path = \"data/Abdelrahman_Bakr_Ghazy_AI_Engineer_CV.docx\"\n",
        "\n",
        "# Create the 'data' directory if it doesn't exist\n",
        "os.makedirs(os.path.dirname(file_path), exist_ok=True)\n",
        "\n",
        "doc.save(file_path)\n",
        "\n",
        "file_path"
      ]
    }
  ]
}